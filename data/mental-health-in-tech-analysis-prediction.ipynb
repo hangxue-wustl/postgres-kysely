{
 "cells": [
  {
   "attachments": {},
   "cell_type": "markdown",
   "id": "7e84402a",
   "metadata": {
    "papermill": {
     "duration": 0.061102,
     "end_time": "2021-12-23T16:39:32.082131",
     "exception": false,
     "start_time": "2021-12-23T16:39:32.021029",
     "status": "completed"
    },
    "tags": []
   },
   "source": [
    "# Mental Health in Tech Analysis - fairness metrics"
   ]
  },
  {
   "cell_type": "code",
   "execution_count": 41,
   "id": "aaca3437",
   "metadata": {},
   "outputs": [],
   "source": [
    "import pandas as pd\n",
    "df = pd.read_csv( \"omsi_cleaned.csv\", sep = \",\")"
   ]
  },
  {
   "cell_type": "code",
   "execution_count": 14,
   "id": "6faf37de",
   "metadata": {},
   "outputs": [
    {
     "data": {
      "text/html": [
       "<div>\n",
       "<style scoped>\n",
       "    .dataframe tbody tr th:only-of-type {\n",
       "        vertical-align: middle;\n",
       "    }\n",
       "\n",
       "    .dataframe tbody tr th {\n",
       "        vertical-align: top;\n",
       "    }\n",
       "\n",
       "    .dataframe thead th {\n",
       "        text-align: right;\n",
       "    }\n",
       "</style>\n",
       "<table border=\"1\" class=\"dataframe\">\n",
       "  <thead>\n",
       "    <tr style=\"text-align: right;\">\n",
       "      <th></th>\n",
       "      <th>age</th>\n",
       "      <th>gender</th>\n",
       "      <th>race</th>\n",
       "      <th>mental_health</th>\n",
       "      <th>year</th>\n",
       "    </tr>\n",
       "  </thead>\n",
       "  <tbody>\n",
       "    <tr>\n",
       "      <th>0</th>\n",
       "      <td>45</td>\n",
       "      <td>Male</td>\n",
       "      <td>White</td>\n",
       "      <td>Don't Know</td>\n",
       "      <td>2020</td>\n",
       "    </tr>\n",
       "    <tr>\n",
       "      <th>1</th>\n",
       "      <td>24</td>\n",
       "      <td>female</td>\n",
       "      <td>NaN</td>\n",
       "      <td>Yes</td>\n",
       "      <td>2020</td>\n",
       "    </tr>\n",
       "    <tr>\n",
       "      <th>2</th>\n",
       "      <td>46</td>\n",
       "      <td>Male</td>\n",
       "      <td>NaN</td>\n",
       "      <td>Yes</td>\n",
       "      <td>2020</td>\n",
       "    </tr>\n",
       "    <tr>\n",
       "      <th>3</th>\n",
       "      <td>25</td>\n",
       "      <td>Female</td>\n",
       "      <td>NaN</td>\n",
       "      <td>Yes</td>\n",
       "      <td>2020</td>\n",
       "    </tr>\n",
       "    <tr>\n",
       "      <th>4</th>\n",
       "      <td>25</td>\n",
       "      <td>F</td>\n",
       "      <td>NaN</td>\n",
       "      <td>Don't Know</td>\n",
       "      <td>2020</td>\n",
       "    </tr>\n",
       "    <tr>\n",
       "      <th>...</th>\n",
       "      <td>...</td>\n",
       "      <td>...</td>\n",
       "      <td>...</td>\n",
       "      <td>...</td>\n",
       "      <td>...</td>\n",
       "    </tr>\n",
       "    <tr>\n",
       "      <th>828</th>\n",
       "      <td>36</td>\n",
       "      <td>Male</td>\n",
       "      <td>White</td>\n",
       "      <td>Possibly</td>\n",
       "      <td>2023</td>\n",
       "    </tr>\n",
       "    <tr>\n",
       "      <th>829</th>\n",
       "      <td>44</td>\n",
       "      <td>male</td>\n",
       "      <td>White</td>\n",
       "      <td>Yes</td>\n",
       "      <td>2023</td>\n",
       "    </tr>\n",
       "    <tr>\n",
       "      <th>830</th>\n",
       "      <td>53</td>\n",
       "      <td>Female</td>\n",
       "      <td>White</td>\n",
       "      <td>Yes</td>\n",
       "      <td>2023</td>\n",
       "    </tr>\n",
       "    <tr>\n",
       "      <th>831</th>\n",
       "      <td>62</td>\n",
       "      <td>male</td>\n",
       "      <td>White</td>\n",
       "      <td>Yes</td>\n",
       "      <td>2023</td>\n",
       "    </tr>\n",
       "    <tr>\n",
       "      <th>832</th>\n",
       "      <td>39</td>\n",
       "      <td>Male</td>\n",
       "      <td>NaN</td>\n",
       "      <td>Yes</td>\n",
       "      <td>2023</td>\n",
       "    </tr>\n",
       "  </tbody>\n",
       "</table>\n",
       "<p>833 rows × 5 columns</p>\n",
       "</div>"
      ],
      "text/plain": [
       "     age  gender   race mental_health  year\n",
       "0     45    Male  White    Don't Know  2020\n",
       "1     24  female    NaN           Yes  2020\n",
       "2     46    Male    NaN           Yes  2020\n",
       "3     25  Female    NaN           Yes  2020\n",
       "4     25       F    NaN    Don't Know  2020\n",
       "..   ...     ...    ...           ...   ...\n",
       "828   36    Male  White      Possibly  2023\n",
       "829   44    male  White           Yes  2023\n",
       "830   53  Female  White           Yes  2023\n",
       "831   62    male  White           Yes  2023\n",
       "832   39    Male    NaN           Yes  2023\n",
       "\n",
       "[833 rows x 5 columns]"
      ]
     },
     "execution_count": 14,
     "metadata": {},
     "output_type": "execute_result"
    }
   ],
   "source": [
    "df"
   ]
  },
  {
   "cell_type": "code",
   "execution_count": 4,
   "id": "cb802864",
   "metadata": {},
   "outputs": [
    {
     "name": "stdout",
     "output_type": "stream",
     "text": [
      "DataFrame with counts of 'Yes' and 'No' mental_health grouped by year:\n",
      "   year  Yes     No\n",
      "0  2019  147  104.0\n",
      "1  2020   51   58.0\n",
      "2  2021   43   50.0\n",
      "3  2022   46   74.0\n",
      "4  2023    5    0.0\n"
     ]
    }
   ],
   "source": [
    "\n",
    "# Filter the DataFrame to include only rows with 'No' mental_health\n",
    "no_mental_health = df[df['mental_health'] == 'No']\n",
    "\n",
    "# Group by year and count the occurrences\n",
    "mental_health_count_no_by_year = no_mental_health.groupby('year').size().reset_index(name='No')\n",
    "\n",
    "# Group by year and count the occurrences for 'Yes' mental_health\n",
    "mental_health_count_yes_by_year = df[df['mental_health'] == 'Yes'].groupby('year').size().reset_index(name='Yes')\n",
    "\n",
    "# Merge the two DataFrames on 'year' column\n",
    "merged_df = pd.merge(mental_health_count_yes_by_year, mental_health_count_no_by_year, on='year', how='outer')\n",
    "\n",
    "# Fill missing values with 0\n",
    "merged_df.fillna(0, inplace=True)\n",
    "\n",
    "print(\"DataFrame with counts of 'Yes' and 'No' mental_health grouped by year:\")\n",
    "print(merged_df)"
   ]
  },
  {
   "cell_type": "code",
   "execution_count": 5,
   "id": "6efcb9cf",
   "metadata": {},
   "outputs": [
    {
     "name": "stdout",
     "output_type": "stream",
     "text": [
      "Percentage of 'Yes' and 'No' mental_health in each year:\n",
      "mental_health  Don't Know         No   Possibly        Yes\n",
      "year                                                      \n",
      "2019             7.386364  29.545455  21.306818  41.761364\n",
      "2020            13.333333  32.222222  26.111111  28.333333\n",
      "2021            10.687023  38.167939  18.320611  32.824427\n",
      "2022            14.024390  45.121951  12.804878  28.048780\n",
      "2023             0.000000   0.000000  16.666667  83.333333\n"
     ]
    }
   ],
   "source": [
    "# Group by year and count the occurrences for 'Yes' and 'No' mental_health\n",
    "mental_health_count_by_year = df.groupby(['year', 'mental_health']).size().unstack(fill_value=0)\n",
    "\n",
    "# Calculate the total count of people for each year\n",
    "total_count_by_year = df.groupby('year').size()\n",
    "\n",
    "# Calculate the percentage of 'Yes' and 'No' mental_health for each year\n",
    "percentage_by_year = mental_health_count_by_year.div(total_count_by_year, axis=0) * 100\n",
    "\n",
    "print(\"Percentage of 'Yes' and 'No' mental_health in each year:\")\n",
    "print(percentage_by_year)\n"
   ]
  },
  {
   "cell_type": "code",
   "execution_count": 26,
   "id": "c91726a3",
   "metadata": {},
   "outputs": [
    {
     "name": "stdout",
     "output_type": "stream",
     "text": [
      "Percentage of people saying not 'No' mental_health in each year:\n",
      "year\n",
      "2019    70.454545\n",
      "2020    67.777778\n",
      "2021    61.832061\n",
      "2022    54.878049\n",
      "2023          NaN\n",
      "dtype: float64\n"
     ]
    }
   ],
   "source": [
    "# Filter the DataFrame to include only rows with 'No' mental_health\n",
    "no_mental_health = df[df['mental_health'] == 'No']\n",
    "\n",
    "# Group by year and count the occurrences of 'No' mental_health\n",
    "mental_health_count_no_by_year = no_mental_health.groupby('year').size()\n",
    "\n",
    "# Calculate the total count of people for each year\n",
    "total_count_by_year = df.groupby('year').size()\n",
    "\n",
    "# Calculate the percentage of people saying 'No' for each year\n",
    "percentage_no_by_year = 100- (mental_health_count_no_by_year / total_count_by_year) * 100\n",
    "\n",
    "print(\"Percentage of people saying not 'No' mental_health in each year:\")\n",
    "print(percentage_no_by_year)"
   ]
  },
  {
   "attachments": {},
   "cell_type": "markdown",
   "id": "344f0d19",
   "metadata": {},
   "source": [
    "SDP metrics"
   ]
  },
  {
   "attachments": {},
   "cell_type": "markdown",
   "id": "24f52d1b",
   "metadata": {},
   "source": [
    "Clean gender"
   ]
  },
  {
   "cell_type": "code",
   "execution_count": 15,
   "id": "438a5960",
   "metadata": {},
   "outputs": [],
   "source": [
    "# Convert gender values to lowercase\n",
    "df['gender'] = df['gender'].str.lower()\n",
    "df.loc[df['gender'] == 'f', 'gender'] = 'female'\n",
    "df.loc[df['gender'] == 'm', 'gender'] = 'male'"
   ]
  },
  {
   "attachments": {},
   "cell_type": "markdown",
   "id": "24c8462b",
   "metadata": {},
   "source": [
    "gender\n",
    "no (female/male) - total (female/male)"
   ]
  },
  {
   "cell_type": "code",
   "execution_count": 31,
   "id": "e0d1ee82",
   "metadata": {},
   "outputs": [
    {
     "name": "stdout",
     "output_type": "stream",
     "text": [
      "-0.12761121856866536\n"
     ]
    }
   ],
   "source": [
    "filtered_df = df[df['mental_health'] == 'No']\n",
    "\n",
    "# Calculate the total count of male and female respondents\n",
    "no_total_male = filtered_df[filtered_df['gender'] == 'male'].shape[0]\n",
    "no_total_female = filtered_df[filtered_df['gender'] == 'female'].shape[0]\n",
    "# Calculate the total count of male and female respondents\n",
    "total_male = (df['gender'] == 'male').sum()\n",
    "total_female = (df['gender'] == 'female').sum()\n",
    "\n",
    "# Calculate the ratio of male to female respondents\n",
    "SDP_gender = no_total_female / no_total_male - total_female / total_male\n",
    "print (SDP_gender)"
   ]
  },
  {
   "attachments": {},
   "cell_type": "markdown",
   "id": "97f70e98",
   "metadata": {},
   "source": [
    "age\n",
    "no (young/old) - total (young/old)"
   ]
  },
  {
   "cell_type": "code",
   "execution_count": 39,
   "id": "703da088",
   "metadata": {},
   "outputs": [
    {
     "name": "stdout",
     "output_type": "stream",
     "text": [
      "147\n",
      "455\n",
      "139\n",
      "378\n",
      "0.11480900052328624\n"
     ]
    }
   ],
   "source": [
    "young_df = df[df['age'] <= 35]\n",
    "old_df = df[df['age'] >35]\n",
    "\n",
    "# Calculate the total count of male and female respondents\n",
    "no_young_df = young_df[young_df['mental_health'] == 'No'].shape[0]\n",
    "no_old_df = old_df[old_df['mental_health'] == 'No'].shape[0]\n",
    "# Calculate the total count of male and female respondents\n",
    "total_young = young_df.shape[0]\n",
    "total_old = old_df.shape[0]\n",
    "\n",
    "# Calculate the ratio of male to female respondents\n",
    "SDP_age = no_old_df / no_young_df - total_old / total_young\n",
    "print (no_young_df)\n",
    "print (total_young)\n",
    "print (no_old_df)\n",
    "print (total_old)\n",
    "print (SDP_age)"
   ]
  },
  {
   "attachments": {},
   "cell_type": "markdown",
   "id": "a1edd243",
   "metadata": {},
   "source": [
    "race \n",
    "no (nonwhite/white) - total (nonwhite/white)"
   ]
  },
  {
   "cell_type": "code",
   "execution_count": 37,
   "id": "44b10c9f",
   "metadata": {},
   "outputs": [
    {
     "name": "stdout",
     "output_type": "stream",
     "text": [
      "30\n",
      "73\n",
      "67\n",
      "310\n",
      "0.21227732306210884\n"
     ]
    }
   ],
   "source": [
    "non_white_df = df[(df['race'] != \"White\") & (df['race'].notna())]\n",
    "\n",
    "white_df = df[df['race'] ==\"White\" ]\n",
    "\n",
    "# Calculate the total count of male and female respondents\n",
    "no_non_white_df = non_white_df[non_white_df['mental_health'] == 'No'].shape[0]\n",
    "no_white_df = white_df[white_df['mental_health'] == 'No'].shape[0]\n",
    "# Calculate the total count of male and female respondents\n",
    "total_non_white = non_white_df.shape[0]\n",
    "total_white = white_df.shape[0]\n",
    "\n",
    "# Calculate the ratio of male to female respondents\n",
    "SDP_race = no_non_white_df / no_white_df - total_non_white / total_white\n",
    "print (no_non_white_df)\n",
    "print (total_non_white)\n",
    "print (no_white_df)\n",
    "print (total_white)\n",
    "print (SDP_race)"
   ]
  }
 ],
 "metadata": {
  "kernelspec": {
   "display_name": "base",
   "language": "python",
   "name": "python3"
  },
  "language_info": {
   "codemirror_mode": {
    "name": "ipython",
    "version": 3
   },
   "file_extension": ".py",
   "mimetype": "text/x-python",
   "name": "python",
   "nbconvert_exporter": "python",
   "pygments_lexer": "ipython3",
   "version": "3.9.7"
  },
  "papermill": {
   "default_parameters": {},
   "duration": 11.023032,
   "end_time": "2021-12-23T16:39:39.587540",
   "environment_variables": {},
   "exception": null,
   "input_path": "__notebook__.ipynb",
   "output_path": "__notebook__.ipynb",
   "parameters": {},
   "start_time": "2021-12-23T16:39:28.564508",
   "version": "2.3.3"
  }
 },
 "nbformat": 4,
 "nbformat_minor": 5
}
